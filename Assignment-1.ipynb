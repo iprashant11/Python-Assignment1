{
 "cells": [
  {
   "cell_type": "code",
   "execution_count": 1,
   "id": "7914d771-ec17-4fa5-88ae-26cdc2853c96",
   "metadata": {},
   "outputs": [
    {
     "name": "stdin",
     "output_type": "stream",
     "text": [
      "Enter temperature in Celsius:  40\n"
     ]
    },
    {
     "name": "stdout",
     "output_type": "stream",
     "text": [
      "40.0° Celsius is equivalent to 104.0° Fahrenheit.\n"
     ]
    }
   ],
   "source": [
    "# Function to convert Celsius to Fahrenheit\n",
    "def celsius_to_fahrenheit(celsius):\n",
    "    return (celsius * 9/5) + 32\n",
    "\n",
    "# Read Celsius temperature from the user\n",
    "celsius = float(input(\"Enter temperature in Celsius: \"))\n",
    "\n",
    "# Convert to Fahrenheit\n",
    "fahrenheit = celsius_to_fahrenheit(celsius)\n",
    "\n",
    "# Print the result\n",
    "print(f\"{celsius}° Celsius is equivalent to {fahrenheit}° Fahrenheit.\")\n"
   ]
  },
  {
   "cell_type": "code",
   "execution_count": 3,
   "id": "1ff46692-9f14-4c6e-8272-56f909d07a17",
   "metadata": {},
   "outputs": [
    {
     "name": "stdin",
     "output_type": "stream",
     "text": [
      "Enter the radius of the circle:  23.4\n"
     ]
    },
    {
     "name": "stdout",
     "output_type": "stream",
     "text": [
      "Area of the circle with radius 23.4 is 1720.21\n",
      "Circumference of the circle with radius 23.4 is 147.03\n"
     ]
    }
   ],
   "source": [
    "import math\n",
    "\n",
    "# Function to calculate the area of the circle\n",
    "def calculate_area(radius):\n",
    "    return math.pi * radius ** 2\n",
    "\n",
    "# Function to calculate the perimeter (circumference) of the circle\n",
    "def calculate_circumference(radius):\n",
    "    return 2 * math.pi * radius\n",
    "\n",
    "# Read radius from the user\n",
    "radius = float(input(\"Enter the radius of the circle: \"))\n",
    "\n",
    "# Calculate area and circumference\n",
    "area = calculate_area(radius)\n",
    "circumference = calculate_circumference(radius)\n",
    "\n",
    "# Print the results\n",
    "print(f\"Area of the circle with radius {radius} is {area:.2f}\")\n",
    "print(f\"Circumference of the circle with radius {radius} is {circumference:.2f}\")\n"
   ]
  },
  {
   "cell_type": "code",
   "execution_count": 5,
   "id": "06008ed6-7d4e-4a21-8ecd-d481f20477b5",
   "metadata": {},
   "outputs": [
    {
     "name": "stdin",
     "output_type": "stream",
     "text": [
      "Enter the original amount:  20000\n",
      "Enter the percentage of interest:  10.23\n"
     ]
    },
    {
     "name": "stdout",
     "output_type": "stream",
     "text": [
      "The interest on 20000.00 at 10.23% is 2046.00\n",
      "The final amount after adding the interest is 22046.00\n"
     ]
    }
   ],
   "source": [
    "# Function to calculate the interest\n",
    "def calculate_interest(amount, interest_rate):\n",
    "    return (interest_rate / 100) * amount\n",
    "\n",
    "# Function to calculate the final amount\n",
    "def calculate_final_amount(amount, interest):\n",
    "    return amount + interest\n",
    "\n",
    "# Read the original amount from the user\n",
    "amount = float(input(\"Enter the original amount: \"))\n",
    "\n",
    "# Read the percentage of interest from the user\n",
    "interest_rate = float(input(\"Enter the percentage of interest: \"))\n",
    "\n",
    "# Calculate the interest\n",
    "interest = calculate_interest(amount, interest_rate)\n",
    "\n",
    "# Calculate the final amount\n",
    "final_amount = calculate_final_amount(amount, interest)\n",
    "\n",
    "# Print the results\n",
    "print(f\"The interest on {amount:.2f} at {interest_rate}% is {interest:.2f}\")\n",
    "print(f\"The final amount after adding the interest is {final_amount:.2f}\")\n"
   ]
  },
  {
   "cell_type": "code",
   "execution_count": 7,
   "id": "06120587-ae75-4da7-809a-35b7cc6b441a",
   "metadata": {},
   "outputs": [
    {
     "name": "stdin",
     "output_type": "stream",
     "text": [
      "Enter distance in meters:  24\n"
     ]
    },
    {
     "name": "stdout",
     "output_type": "stream",
     "text": [
      "24.0 meters is equivalent to:\n",
      "2400.00 centimeters\n",
      "944.88 inches\n",
      "26.25 yards\n"
     ]
    }
   ],
   "source": [
    "# Function to convert meters to centimeters\n",
    "def meters_to_centimeters(meters):\n",
    "    return meters * 100\n",
    "\n",
    "# Function to convert meters to inches\n",
    "def meters_to_inches(meters):\n",
    "    return meters * 39.3701\n",
    "\n",
    "# Function to convert meters to yards\n",
    "def meters_to_yards(meters):\n",
    "    return meters * 1.09361\n",
    "\n",
    "# Read distance in meters from the user\n",
    "meters = float(input(\"Enter distance in meters: \"))\n",
    "\n",
    "# Convert to centimeters, inches, and yards\n",
    "centimeters = meters_to_centimeters(meters)\n",
    "inches = meters_to_inches(meters)\n",
    "yards = meters_to_yards(meters)\n",
    "\n",
    "# Print the results\n",
    "print(f\"{meters} meters is equivalent to:\")\n",
    "print(f\"{centimeters:.2f} centimeters\")\n",
    "print(f\"{inches:.2f} inches\")\n",
    "print(f\"{yards:.2f} yards\")\n",
    "\n"
   ]
  },
  {
   "cell_type": "code",
   "execution_count": 9,
   "id": "e2d9892b-18a9-4c96-ad56-db9d92a59c8c",
   "metadata": {},
   "outputs": [
    {
     "name": "stdin",
     "output_type": "stream",
     "text": [
      "Enter the actual cost of the product:  45000\n",
      "Enter the selling cost of the product:  89000\n"
     ]
    },
    {
     "name": "stdout",
     "output_type": "stream",
     "text": [
      "You have a Profit of 44000.00 units.\n"
     ]
    }
   ],
   "source": [
    "# Function to calculate profit or loss\n",
    "def calculate_profit_or_loss(actual_cost, selling_cost):\n",
    "    if selling_cost > actual_cost:\n",
    "        return \"Profit\", selling_cost - actual_cost\n",
    "    elif selling_cost < actual_cost:\n",
    "        return \"Loss\", actual_cost - selling_cost\n",
    "    else:\n",
    "        return \"No Profit, No Loss\", 0\n",
    "\n",
    "# Read actual cost and selling cost from the user\n",
    "actual_cost = float(input(\"Enter the actual cost of the product: \"))\n",
    "selling_cost = float(input(\"Enter the selling cost of the product: \"))\n",
    "\n",
    "# Calculate profit or loss\n",
    "result, amount = calculate_profit_or_loss(actual_cost, selling_cost)\n",
    "\n",
    "# Print the result\n",
    "if result == \"No Profit, No Loss\":\n",
    "    print(\"There is no profit and no loss.\")\n",
    "else:\n",
    "    print(f\"You have a {result} of {amount:.2f} units.\")\n"
   ]
  },
  {
   "cell_type": "code",
   "execution_count": 13,
   "id": "78fc4bc6-baba-4cdf-a953-d179227a677e",
   "metadata": {},
   "outputs": [
    {
     "name": "stdin",
     "output_type": "stream",
     "text": [
      "Enter the basic salary:  123000\n"
     ]
    },
    {
     "name": "stdout",
     "output_type": "stream",
     "text": [
      "Basic Salary: 123000.00\n",
      "DA: 92250.00\n",
      "HRA: 24600.00\n",
      "Gross Salary: 92250.00 + 123000.00 + 24600.00 = 239850.00\n"
     ]
    }
   ],
   "source": [
    "# Function to calculate the gross salary\n",
    "def calculate_gross_salary(basic_salary):\n",
    "    # Calculate DA and HRA\n",
    "    da = 0.75 * basic_salary\n",
    "    hra = 0.20 * basic_salary\n",
    "    \n",
    "    # Determine gross salary based on conditions\n",
    "    if basic_salary < 10000:\n",
    "        gross_salary = basic_salary + da\n",
    "    elif 10000 <= basic_salary < 20000:\n",
    "        gross_salary = basic_salary + da + 0.50 * hra\n",
    "    else:  # basic_salary >= 20000\n",
    "        gross_salary = basic_salary + da + hra\n",
    "    \n",
    "    return da, hra, gross_salary\n",
    "\n",
    "# Read basic salary from the user\n",
    "basic_salary = float(input(\"Enter the basic salary: \"))\n",
    "\n",
    "# Calculate DA, HRA, and gross salary\n",
    "da, hra, gross_salary = calculate_gross_salary(basic_salary)\n",
    "\n",
    "# Print the results\n",
    "print(f\"Basic Salary: {basic_salary:.2f}\")\n",
    "print(f\"DA: {da:.2f}\")\n",
    "print(f\"HRA: {hra:.2f}\")\n",
    "\n",
    "# Format the final output based on the condition\n",
    "if basic_salary < 10000:\n",
    "    print(f\"Gross Salary: {da:.2f} + {basic_salary:.2f} = {gross_salary:.2f}\")\n",
    "elif 10000 <= basic_salary < 20000:\n",
    "    print(f\"Gross Salary: {da:.2f} + {basic_salary:.2f} + {0.50 * hra:.2f} = {gross_salary:.2f}\")\n",
    "else:\n",
    "    print(f\"Gross Salary: {da:.2f} + {basic_salary:.2f} + {hra:.2f} = {gross_salary:.2f}\")\n"
   ]
  },
  {
   "cell_type": "code",
   "execution_count": 15,
   "id": "43a82d54-a424-48a0-aea1-0b25a55f30b5",
   "metadata": {},
   "outputs": [
    {
     "name": "stdin",
     "output_type": "stream",
     "text": [
      "Enter a number to find its factorial:  10\n"
     ]
    },
    {
     "name": "stdout",
     "output_type": "stream",
     "text": [
      "Factorial of 10 = 3628800\n"
     ]
    }
   ],
   "source": [
    "# Function to calculate the factorial of a number\n",
    "def factorial(n):\n",
    "    if n == 0 or n == 1:\n",
    "        return 1\n",
    "    else:\n",
    "        result = 1\n",
    "        for i in range(2, n + 1):\n",
    "            result *= i\n",
    "        return result\n",
    "\n",
    "# Read the number from the user\n",
    "number = int(input(\"Enter a number to find its factorial: \"))\n",
    "\n",
    "# Check if the input is a non-negative integer\n",
    "if number < 0:\n",
    "    print(\"Factorial is not defined for negative numbers.\")\n",
    "else:\n",
    "    # Calculate the factorial\n",
    "    fact = factorial(number)\n",
    "    \n",
    "    # Print the result\n",
    "    print(f\"Factorial of {number} = {fact}\")\n"
   ]
  },
  {
   "cell_type": "code",
   "execution_count": 17,
   "id": "bd7ff88a-d933-4dee-b862-4cbc44d826a6",
   "metadata": {},
   "outputs": [
    {
     "name": "stdout",
     "output_type": "stream",
     "text": [
      "Even numbers: [56, 2, 48, 32, 56, 68]\n",
      "Odd numbers: [35, 41, 43, 71, 55]\n"
     ]
    }
   ],
   "source": [
    "# Given tuple\n",
    "num = (56, 2, 35, 41, 43, 48, 32, 56, 71, 55, 68)\n",
    "\n",
    "# Lists to store even and odd numbers\n",
    "even_numbers = []\n",
    "odd_numbers = []\n",
    "\n",
    "# Iterate through the tuple and classify numbers\n",
    "for n in num:\n",
    "    if n % 2 == 0:\n",
    "        even_numbers.append(n)\n",
    "    else:\n",
    "        odd_numbers.append(n)\n",
    "\n",
    "# Print the results\n",
    "print(f\"Even numbers: {even_numbers}\")\n",
    "print(f\"Odd numbers: {odd_numbers}\")\n"
   ]
  },
  {
   "cell_type": "code",
   "execution_count": 21,
   "id": "286f5789-ce14-4358-b6f5-69ccb5473cae",
   "metadata": {},
   "outputs": [
    {
     "name": "stdin",
     "output_type": "stream",
     "text": [
      "Enter a number:  5\n"
     ]
    },
    {
     "name": "stdout",
     "output_type": "stream",
     "text": [
      "The number 5 is Odd.\n"
     ]
    }
   ],
   "source": [
    "# Function to check if the number is odd or even\n",
    "def check_odd_even(number):\n",
    "    if number % 2 == 0:\n",
    "        return \"Even\"\n",
    "    else:\n",
    "        return \"Odd\"\n",
    "\n",
    "# Read a number from the user\n",
    "try:\n",
    "    user_input = int(input(\"Enter a number: \"))\n",
    "    \n",
    "    # Call the function and print the result\n",
    "    result = check_odd_even(user_input)\n",
    "    print(f\"The number {user_input} is {result}.\")\n",
    "except ValueError:\n",
    "    print(\"Please enter a valid integer.\")\n"
   ]
  },
  {
   "cell_type": "code",
   "execution_count": 25,
   "id": "09041333-3a66-48af-82fb-98b942563c6c",
   "metadata": {},
   "outputs": [
    {
     "name": "stdin",
     "output_type": "stream",
     "text": [
      "Enter a positive number:  45\n"
     ]
    },
    {
     "name": "stdout",
     "output_type": "stream",
     "text": [
      "Square root of 45.0: 6.708203932499369\n",
      "Sine of 45.0: 0.8509035245341184\n",
      "Tangent of 45.0: 1.6197751905438615\n",
      "Logarithm of 45.0: 3.8066624897703196\n",
      "Factorial of 45.0: 119622220865480194561963161495657715064383733760000000000\n"
     ]
    }
   ],
   "source": [
    "import math\n",
    "\n",
    "# Read a number from the user\n",
    "try:\n",
    "    user_input = float(input(\"Enter a positive number: \"))\n",
    "\n",
    "    if user_input < 0:\n",
    "        print(\"Please enter a non-negative number for these calculations.\")\n",
    "    else:\n",
    "        # Perform various mathematical operations\n",
    "        sqrt_value = math.sqrt(user_input)\n",
    "        sin_value = math.sin(user_input)\n",
    "        tan_value = math.tan(user_input)\n",
    "        \n",
    "        # Factorial only works with non-negative integers\n",
    "        if user_input.is_integer() and user_input >= 0:\n",
    "            factorial_value = math.factorial(int(user_input))\n",
    "        else:\n",
    "            factorial_value = \"undefined (factorial is only for non-negative integers)\"\n",
    "        \n",
    "        # Logarithm can't be applied to non-positive numbers\n",
    "        if user_input > 0:\n",
    "            log_value = math.log(user_input)\n",
    "        else:\n",
    "            log_value = \"undefined (logarithm is only for positive numbers)\"\n",
    "\n",
    "        # Print the results\n",
    "        print(f\"Square root of {user_input}: {sqrt_value}\")\n",
    "        print(f\"Sine of {user_input}: {sin_value}\")\n",
    "        print(f\"Tangent of {user_input}: {tan_value}\")\n",
    "        print(f\"Logarithm of {user_input}: {log_value}\")\n",
    "        print(f\"Factorial of {user_input}: {factorial_value}\")\n",
    "\n",
    "except ValueError:\n",
    "    print(\"Please enter a valid number.\")\n"
   ]
  },
  {
   "cell_type": "code",
   "execution_count": 27,
   "id": "d3bd33b1-8df6-44c6-a3ad-5f62505acfc4",
   "metadata": {},
   "outputs": [
    {
     "name": "stdin",
     "output_type": "stream",
     "text": [
      "Enter the length of the rectangle:  34\n",
      "Enter the width of the rectangle:  45\n"
     ]
    },
    {
     "name": "stdout",
     "output_type": "stream",
     "text": [
      "The area of the rectangle is: 1530.0\n"
     ]
    }
   ],
   "source": [
    "class Rectangle:\n",
    "    def __init__(self, length, width):\n",
    "        # Initializing length and width\n",
    "        self.length = length\n",
    "        self.width = width\n",
    "\n",
    "    def calculate(self):\n",
    "        # Calculating the area of the rectangle\n",
    "        area = self.length * self.width\n",
    "        return area\n",
    "\n",
    "# Taking length and width input from the user\n",
    "try:\n",
    "    length = float(input(\"Enter the length of the rectangle: \"))\n",
    "    width = float(input(\"Enter the width of the rectangle: \"))\n",
    "\n",
    "    # Creating an object of the Rectangle class\n",
    "    rectangle = Rectangle(length, width)\n",
    "\n",
    "    # Calling the calculate method to find the area\n",
    "    area = rectangle.calculate()\n",
    "\n",
    "    # Printing the area of the rectangle\n",
    "    print(f\"The area of the rectangle is: {area}\")\n",
    "except ValueError:\n",
    "    print(\"Please enter valid numerical values for length and width.\")\n"
   ]
  },
  {
   "cell_type": "code",
   "execution_count": null,
   "id": "991920b2-67f8-45c1-b38f-bb8b11cbed13",
   "metadata": {},
   "outputs": [],
   "source": []
  }
 ],
 "metadata": {
  "kernelspec": {
   "display_name": "Python 3 (ipykernel)",
   "language": "python",
   "name": "python3"
  },
  "language_info": {
   "codemirror_mode": {
    "name": "ipython",
    "version": 3
   },
   "file_extension": ".py",
   "mimetype": "text/x-python",
   "name": "python",
   "nbconvert_exporter": "python",
   "pygments_lexer": "ipython3",
   "version": "3.12.4"
  }
 },
 "nbformat": 4,
 "nbformat_minor": 5
}
